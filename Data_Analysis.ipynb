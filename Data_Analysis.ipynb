{
 "cells": [
  {
   "cell_type": "code",
   "execution_count": 2,
   "id": "excess-screening",
   "metadata": {
    "collapsed": true,
    "jupyter": {
     "outputs_hidden": true
    }
   },
   "outputs": [
    {
     "ename": "SyntaxError",
     "evalue": "invalid syntax (<ipython-input-2-f48b74837118>, line 3)",
     "output_type": "error",
     "traceback": [
      "\u001b[0;36m  File \u001b[0;32m\"<ipython-input-2-f48b74837118>\"\u001b[0;36m, line \u001b[0;32m3\u001b[0m\n\u001b[0;31m    pip install -U textblob\u001b[0m\n\u001b[0m        ^\u001b[0m\n\u001b[0;31mSyntaxError\u001b[0m\u001b[0;31m:\u001b[0m invalid syntax\n"
     ]
    }
   ],
   "source": [
    "# I have to install the below packages for my analysis \n",
    "!pip install adjustText\n",
    "pip install -U textblob"
   ]
  },
  {
   "cell_type": "code",
   "execution_count": 1,
   "id": "royal-russian",
   "metadata": {},
   "outputs": [],
   "source": [
    "#This is the common area to import all the libararies\n",
    "import pandas as pd\n",
    "import numpy as np\n",
    "\n",
    "import pickle\n",
    "\n",
    "from collections import Counter\n",
    "from sklearn.feature_extraction import text \n",
    "from sklearn.feature_extraction.text import CountVectorizer\n",
    "from textblob import TextBlob\n",
    "\n",
    "from matplotlib import pyplot as plt\n",
    "from adjustText import adjust_text\n",
    "import math\n",
    "from tqdm import tqdm\n",
    "import seaborn as sns"
   ]
  },
  {
   "cell_type": "markdown",
   "id": "dominant-mathematics",
   "metadata": {},
   "source": [
    "So what should be the questions that I should be asking myself :\n",
    "\n",
    "* Let us take the content of Barack Obama and analyze the most common words in his speech.\n",
    "* Look at speech topics over the years\n",
    "* \n"
   ]
  },
  {
   "cell_type": "code",
   "execution_count": 1,
   "id": "objective-extraction",
   "metadata": {},
   "outputs": [],
   "source": [
    "import pandas as pd"
   ]
  },
  {
   "cell_type": "markdown",
   "id": "recorded-smoke",
   "metadata": {},
   "source": [
    "Read data "
   ]
  },
  {
   "cell_type": "code",
   "execution_count": 5,
   "id": "similar-female",
   "metadata": {},
   "outputs": [],
   "source": [
    "file_name = \"speech.xlsx\""
   ]
  },
  {
   "cell_type": "code",
   "execution_count": 9,
   "id": "valuable-corner",
   "metadata": {},
   "outputs": [],
   "source": [
    "#columns = ['President','Party','from','until','Vice President','title','date']"
   ]
  },
  {
   "cell_type": "code",
   "execution_count": 14,
   "id": "cubic-match",
   "metadata": {},
   "outputs": [],
   "source": [
    "data_input = pd.read_excel(file_name, sheet_name=None)"
   ]
  },
  {
   "cell_type": "markdown",
   "id": "indirect-animal",
   "metadata": {},
   "source": [
    "This Dataframe has the speeches of all american presidents. Let us Filter out all Obama's speeches."
   ]
  },
  {
   "cell_type": "code",
   "execution_count": 23,
   "id": "ranking-county",
   "metadata": {},
   "outputs": [],
   "source": [
    "data_list = data_input['Sheet1']"
   ]
  },
  {
   "cell_type": "code",
   "execution_count": 51,
   "id": "certain-mason",
   "metadata": {},
   "outputs": [],
   "source": [
    "obama_data = data_list[data_list['President'] == 'Donald Trump']"
   ]
  },
  {
   "cell_type": "code",
   "execution_count": 52,
   "id": "active-stomach",
   "metadata": {},
   "outputs": [
    {
     "name": "stderr",
     "output_type": "stream",
     "text": [
      "<ipython-input-52-eb567ae6ec3b>:1: FutureWarning: Treating datetime data as categorical rather than numeric in `.describe` is deprecated and will be removed in a future version of pandas. Specify `datetime_is_numeric=True` to silence this warning and adopt the future behavior now.\n",
      "  obama_data['date'].describe()\n"
     ]
    },
    {
     "data": {
      "text/plain": [
       "count                      22\n",
       "unique                     22\n",
       "top       2019-09-24 00:00:00\n",
       "freq                        1\n",
       "first     2017-01-20 00:00:00\n",
       "last      2020-01-08 00:00:00\n",
       "Name: date, dtype: object"
      ]
     },
     "execution_count": 52,
     "metadata": {},
     "output_type": "execute_result"
    }
   ],
   "source": [
    "obama_data['date'].describe()"
   ]
  },
  {
   "cell_type": "markdown",
   "id": "durable-arbitration",
   "metadata": {},
   "source": [
    "So his speeches are ranging from the year 2017 - 2020"
   ]
  },
  {
   "cell_type": "code",
   "execution_count": 50,
   "id": "olympic-liabilities",
   "metadata": {},
   "outputs": [],
   "source": [
    "#obama_data.head()"
   ]
  },
  {
   "cell_type": "code",
   "execution_count": 3,
   "id": "durable-newfoundland",
   "metadata": {},
   "outputs": [],
   "source": [
    "# pip additional libraries \n",
    "#!pip install adjustText"
   ]
  },
  {
   "cell_type": "code",
   "execution_count": 4,
   "id": "fallen-dealer",
   "metadata": {},
   "outputs": [],
   "source": [
    "#pip install -U textblob"
   ]
  },
  {
   "cell_type": "markdown",
   "id": "minimal-language",
   "metadata": {},
   "source": [
    "Load the data "
   ]
  },
  {
   "cell_type": "markdown",
   "id": "complimentary-longitude",
   "metadata": {},
   "source": [
    "The data has been segregate as below :\n",
    "* First Party System (1792–1824)\n",
    "* Second Party System (1828–1854)\n",
    "* Third Party System (1854–1895)\n",
    "* Fourth Party System (1896–1932)\n",
    "* Fifth Party System (1932–1964)\n",
    "* Sixth Party System (1964–present)"
   ]
  },
  {
   "cell_type": "code",
   "execution_count": null,
   "id": "patient-practice",
   "metadata": {},
   "outputs": [],
   "source": [
    "Desktop/Metis/project_4/Project-4/Data"
   ]
  },
  {
   "cell_type": "code",
   "execution_count": 11,
   "id": "burning-brick",
   "metadata": {},
   "outputs": [],
   "source": [
    "corpus = pd.read_csv('~/Desktop/Metis/project_4/Project-4/Data/corpus.csv')\n",
    "first_party_corpus = pd.read_csv('~/Desktop/Metis/project_4/Project-4/Data/first_party_corpus.csv')\n",
    "second_party_corpus = pd.read_csv('~/Desktop/Metis/project_4/Project-4/Data/second_party_corpus.csv')\n",
    "third_party_corpus = pd.read_csv('~/Desktop/Metis/project_4/Project-4/Data/third_party_corpus.csv')\n",
    "fourth_party_corpus = pd.read_csv('~/Desktop/Metis/project_4/Project-4/Data/fourth_party_corpus.csv')\n",
    "fifth_party_corpus = pd.read_csv('~/Desktop/Metis/project_4/Project-4/Data/fifth_party_corpus.csv')\n",
    "sixth_party_corpus = pd.read_csv('~/Desktop/Metis/project_4/Project-4/Data/sixth_party_corpus.csv')"
   ]
  },
  {
   "cell_type": "code",
   "execution_count": 13,
   "id": "historic-separate",
   "metadata": {},
   "outputs": [
    {
     "data": {
      "text/html": [
       "<div>\n",
       "<style scoped>\n",
       "    .dataframe tbody tr th:only-of-type {\n",
       "        vertical-align: middle;\n",
       "    }\n",
       "\n",
       "    .dataframe tbody tr th {\n",
       "        vertical-align: top;\n",
       "    }\n",
       "\n",
       "    .dataframe thead th {\n",
       "        text-align: right;\n",
       "    }\n",
       "</style>\n",
       "<table border=\"1\" class=\"dataframe\">\n",
       "  <thead>\n",
       "    <tr style=\"text-align: right;\">\n",
       "      <th></th>\n",
       "      <th>Unnamed: 0</th>\n",
       "      <th>Party</th>\n",
       "      <th>transcripts</th>\n",
       "    </tr>\n",
       "  </thead>\n",
       "  <tbody>\n",
       "    <tr>\n",
       "      <th>0</th>\n",
       "      <td>George Washington</td>\n",
       "      <td>Unaffiliated</td>\n",
       "      <td>Fellow Citizens of the Senate and the House of...</td>\n",
       "    </tr>\n",
       "    <tr>\n",
       "      <th>1</th>\n",
       "      <td>John Adams</td>\n",
       "      <td>Federalist</td>\n",
       "      <td>When it was first perceived, in early times, t...</td>\n",
       "    </tr>\n",
       "    <tr>\n",
       "      <th>2</th>\n",
       "      <td>Thomas Jefferson</td>\n",
       "      <td>Democratic-Republican</td>\n",
       "      <td>FRIENDS AND FELLOW-CITIZENS, Called upon to un...</td>\n",
       "    </tr>\n",
       "    <tr>\n",
       "      <th>3</th>\n",
       "      <td>James Madison</td>\n",
       "      <td>Democratic-Republican</td>\n",
       "      <td>Unwilling to depart from examples of the most ...</td>\n",
       "    </tr>\n",
       "    <tr>\n",
       "      <th>4</th>\n",
       "      <td>James Monroe</td>\n",
       "      <td>Democratic-Republican</td>\n",
       "      <td>I should be destitute of feeling if I was not ...</td>\n",
       "    </tr>\n",
       "  </tbody>\n",
       "</table>\n",
       "</div>"
      ],
      "text/plain": [
       "          Unnamed: 0                  Party  \\\n",
       "0  George Washington           Unaffiliated   \n",
       "1         John Adams             Federalist   \n",
       "2   Thomas Jefferson  Democratic-Republican   \n",
       "3      James Madison  Democratic-Republican   \n",
       "4       James Monroe  Democratic-Republican   \n",
       "\n",
       "                                         transcripts  \n",
       "0  Fellow Citizens of the Senate and the House of...  \n",
       "1  When it was first perceived, in early times, t...  \n",
       "2  FRIENDS AND FELLOW-CITIZENS, Called upon to un...  \n",
       "3  Unwilling to depart from examples of the most ...  \n",
       "4  I should be destitute of feeling if I was not ...  "
      ]
     },
     "execution_count": 13,
     "metadata": {},
     "output_type": "execute_result"
    }
   ],
   "source": [
    "corpus.head()"
   ]
  },
  {
   "cell_type": "markdown",
   "id": "adopted-arthritis",
   "metadata": {},
   "source": [
    "The columns definitely need to be renamed. I should rename the first column \"Unnamed\" to President"
   ]
  },
  {
   "cell_type": "code",
   "execution_count": 24,
   "id": "agreed-texas",
   "metadata": {},
   "outputs": [],
   "source": [
    "corpus = corpus.rename(columns = {'Unnamed: 0':'President'}).set_index('President')"
   ]
  },
  {
   "cell_type": "code",
   "execution_count": 25,
   "id": "fallen-survivor",
   "metadata": {},
   "outputs": [],
   "source": [
    "first_party_corpus = first_party_corpus.rename(columns = {'Unnamed: 0':'President'}).set_index('President')"
   ]
  },
  {
   "cell_type": "code",
   "execution_count": 26,
   "id": "christian-mandate",
   "metadata": {},
   "outputs": [],
   "source": [
    "second_party_corpus = second_party_corpus.rename(columns = {'Unnamed: 0':'President'}).set_index('President')"
   ]
  },
  {
   "cell_type": "code",
   "execution_count": 27,
   "id": "antique-mileage",
   "metadata": {},
   "outputs": [],
   "source": [
    "third_party_corpus = third_party_corpus.rename(columns = {'Unnamed: 0':'President'}).set_index('President')"
   ]
  },
  {
   "cell_type": "code",
   "execution_count": null,
   "id": "completed-northwest",
   "metadata": {},
   "outputs": [],
   "source": [
    "third_party_corpus = third_party_corpus.rename(columns = {'Unnamed: 0':'President'}).set_index('President')"
   ]
  }
 ],
 "metadata": {
  "kernelspec": {
   "display_name": "Python 3",
   "language": "python",
   "name": "python3"
  },
  "language_info": {
   "codemirror_mode": {
    "name": "ipython",
    "version": 3
   },
   "file_extension": ".py",
   "mimetype": "text/x-python",
   "name": "python",
   "nbconvert_exporter": "python",
   "pygments_lexer": "ipython3",
   "version": "3.8.5"
  }
 },
 "nbformat": 4,
 "nbformat_minor": 5
}
